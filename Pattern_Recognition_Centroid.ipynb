{
  "nbformat": 4,
  "nbformat_minor": 0,
  "metadata": {
    "colab": {
      "provenance": []
    },
    "kernelspec": {
      "name": "python3",
      "display_name": "Python 3"
    },
    "language_info": {
      "name": "python"
    }
  },
  "cells": [
    {
      "cell_type": "code",
      "source": [
        "import numpy as np\n",
        "from sklearn.svm import SVC\n",
        "from sklearn.metrics import accuracy_score\n",
        "from tensorflow.keras.datasets import mnist"
      ],
      "metadata": {
        "id": "cbQUowqKMfSv"
      },
      "execution_count": null,
      "outputs": []
    },
    {
      "cell_type": "code",
      "execution_count": 1,
      "metadata": {
        "id": "3emV4XNjLl8P"
      },
      "outputs": [],
      "source": [
        "def calculate_centroid(image, row_start, col_start):\n",
        "    # Calculate the sum of pixels and weighted sums for x and y\n",
        "    sum_pixels = np.sum(image)\n",
        "    if sum_pixels == 0:\n",
        "        # If sum_pixels is zero, all pixels in the block are black, return 0 for centroid\n",
        "        return 0, 0\n",
        "\n",
        "    num_rows, num_cols = image.shape\n",
        "\n",
        "    sum_weighted_x = 0\n",
        "    sum_weighted_y = 0\n",
        "\n",
        "    for i in range(num_rows):\n",
        "        for j in range(num_cols):\n",
        "            sum_weighted_x += (i + row_start) * image[i, j]\n",
        "            sum_weighted_y += (j + col_start) * image[i, j]\n",
        "\n",
        "    # Calculate centroids\n",
        "    centroid_x = sum_weighted_x / sum_pixels\n",
        "    centroid_y = sum_weighted_y / sum_pixels\n",
        "\n",
        "    return centroid_x, centroid_y\n"
      ]
    },
    {
      "cell_type": "code",
      "source": [
        "def extract_features(images, n_blocks):\n",
        "    features = []\n",
        "    for image in images:\n",
        "        block_size = image.shape[0] // int(np.sqrt(n_blocks))  # Assuming the image is square\n",
        "        block_features = []\n",
        "        for i_block in range(int(np.sqrt(n_blocks))):\n",
        "            for j_block in range(int(np.sqrt(n_blocks))):\n",
        "                row_start = i_block * block_size\n",
        "                col_start = j_block * block_size\n",
        "                row_end = row_start + block_size\n",
        "                col_end = col_start + block_size\n",
        "                block = image[row_start:row_end, col_start:col_end]\n",
        "                centroid_x, centroid_y = calculate_centroid(block, row_start, col_start)\n",
        "                block_features.extend([centroid_x, centroid_y])\n",
        "        features.append(block_features)\n",
        "    return np.array(features)\n"
      ],
      "metadata": {
        "id": "T8U7xfTVMTMa"
      },
      "execution_count": 2,
      "outputs": []
    },
    {
      "cell_type": "code",
      "source": [
        "# Load MNIST dataset\n",
        "(X_train, y_train), (X_test, y_test) = mnist.load_data()\n",
        "\n",
        "# Normalize pixel values to the range [0, 1]\n",
        "X_train = X_train / 255.0\n",
        "X_test = X_test / 255.0\n"
      ],
      "metadata": {
        "colab": {
          "base_uri": "https://localhost:8080/"
        },
        "id": "IHHLa427MUtK",
        "outputId": "6cf4c631-7cf3-4652-c9d8-203abccc3049"
      },
      "execution_count": 3,
      "outputs": [
        {
          "output_type": "stream",
          "name": "stdout",
          "text": [
            "Downloading data from https://storage.googleapis.com/tensorflow/tf-keras-datasets/mnist.npz\n",
            "11490434/11490434 [==============================] - 1s 0us/step\n"
          ]
        }
      ]
    },
    {
      "cell_type": "code",
      "source": [
        "# Extract features using centroid-based approach\n",
        "n_blocks = 9\n",
        "X_train_features = extract_features(X_train, n_blocks)\n",
        "X_test_features = extract_features(X_test, n_blocks)\n"
      ],
      "metadata": {
        "id": "yva4kaCnMV92"
      },
      "execution_count": 4,
      "outputs": []
    },
    {
      "cell_type": "code",
      "source": [
        "# Train SVM classifier\n",
        "svm_classifier = SVC(kernel='poly')\n",
        "svm_classifier.fit(X_train_features, y_train)\n",
        "\n",
        "# Make predictions\n",
        "y_pred = svm_classifier.predict(X_test_features)\n",
        "\n",
        "# Calculate accuracy\n",
        "accuracy = accuracy_score(y_test, y_pred)\n",
        "print(\"Accuracy:\", accuracy)\n"
      ],
      "metadata": {
        "colab": {
          "base_uri": "https://localhost:8080/"
        },
        "id": "-0v3Ck4pMXFZ",
        "outputId": "541ca380-b3ee-4a5a-9b1f-c0e31292106d"
      },
      "execution_count": 8,
      "outputs": [
        {
          "output_type": "stream",
          "name": "stdout",
          "text": [
            "Accuracy: 0.8986\n"
          ]
        }
      ]
    },
    {
      "cell_type": "code",
      "source": [],
      "metadata": {
        "id": "Yich1G7nMcAu"
      },
      "execution_count": null,
      "outputs": []
    }
  ]
}